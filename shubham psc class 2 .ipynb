{
 "cells": [
  {
   "cell_type": "code",
   "execution_count": 4,
   "id": "9765d201-ca5f-454c-800f-f78d891cf320",
   "metadata": {},
   "outputs": [],
   "source": [
    "s = \"this is My First Python programming class and i am learNING python string and its function\""
   ]
  },
  {
   "cell_type": "code",
   "execution_count": 5,
   "id": "6c7569fd-ec0a-4332-a273-d7129acc50b1",
   "metadata": {},
   "outputs": [
    {
     "data": {
      "text/plain": [
       "'this is My First Python programming class and i am learNING python string and its function'"
      ]
     },
     "execution_count": 5,
     "metadata": {},
     "output_type": "execute_result"
    }
   ],
   "source": [
    "s"
   ]
  },
  {
   "cell_type": "code",
   "execution_count": 9,
   "id": "d99779ae-d4a9-431b-bc02-4d5a490582ea",
   "metadata": {},
   "outputs": [
    {
     "data": {
      "text/plain": [
       "'h   r tnrrmglsnimeNGyosi dtfco'"
      ]
     },
     "execution_count": 9,
     "metadata": {},
     "output_type": "execute_result"
    }
   ],
   "source": [
    "s[1:301:3]"
   ]
  },
  {
   "cell_type": "code",
   "execution_count": 10,
   "id": "45618459-ad6f-4445-987c-bbf561847550",
   "metadata": {},
   "outputs": [],
   "source": [
    "s1 = \"We are learning problem solving using computation\""
   ]
  },
  {
   "cell_type": "code",
   "execution_count": 11,
   "id": "732d09cf-bdc0-4027-b088-d9d053244498",
   "metadata": {},
   "outputs": [
    {
     "data": {
      "text/plain": [
       "'eea'"
      ]
     },
     "execution_count": 11,
     "metadata": {},
     "output_type": "execute_result"
    }
   ],
   "source": [
    "# Extract data from 1 to 10 with jump of 4 \n",
    "s1[1:11:4]"
   ]
  },
  {
   "cell_type": "code",
   "execution_count": 12,
   "id": "a182a8e1-57f4-4be6-beba-f1d23e8dbc06",
   "metadata": {},
   "outputs": [
    {
     "data": {
      "text/plain": [
       "'eaela'"
      ]
     },
     "execution_count": 12,
     "metadata": {},
     "output_type": "execute_result"
    }
   ],
   "source": [
    "# Extract data from 1 to 10 with a jump of 2 \n",
    "s1[1:11:2]"
   ]
  },
  {
   "cell_type": "markdown",
   "id": "a109c40b-9c6d-4bfe-97d6-b172e6c2e92d",
   "metadata": {},
   "source": [
    "2.Try to reverse the string without using reverse function "
   ]
  },
  {
   "cell_type": "code",
   "execution_count": 13,
   "id": "cc4d1cb0-7188-45de-8b5c-d379d474ddce",
   "metadata": {},
   "outputs": [
    {
     "data": {
      "text/plain": [
       "'noitcnuf sti dna gnirts nohtyp GNINrael ma i dna ssalc gnimmargorp nohtyP tsriF yM si siht'"
      ]
     },
     "execution_count": 13,
     "metadata": {},
     "output_type": "execute_result"
    }
   ],
   "source": [
    "s[::-1]"
   ]
  },
  {
   "cell_type": "markdown",
   "id": "c2c3b025-9693-42ca-9c94-18650321c9bc",
   "metadata": {},
   "source": [
    "3.Try to split the string after the conversion of entire string in uppercase"
   ]
  },
  {
   "cell_type": "code",
   "execution_count": 14,
   "id": "86365f07-e4ad-4814-8c32-adbf93aca562",
   "metadata": {},
   "outputs": [
    {
     "data": {
      "text/plain": [
       "['THIS',\n",
       " 'IS',\n",
       " 'MY',\n",
       " 'FIRST',\n",
       " 'PYTHON',\n",
       " 'PROGRAMMING',\n",
       " 'CLASS',\n",
       " 'AND',\n",
       " 'I',\n",
       " 'AM',\n",
       " 'LEARNING',\n",
       " 'PYTHON',\n",
       " 'STRING',\n",
       " 'AND',\n",
       " 'ITS',\n",
       " 'FUNCTION']"
      ]
     },
     "execution_count": 14,
     "metadata": {},
     "output_type": "execute_result"
    }
   ],
   "source": [
    "# Method 1\n",
    "s1=s.upper()\n",
    "s1.split()"
   ]
  },
  {
   "cell_type": "code",
   "execution_count": 15,
   "id": "3b38caa3-3907-4537-afa7-64b14f62aa68",
   "metadata": {},
   "outputs": [
    {
     "data": {
      "text/plain": [
       "['THIS',\n",
       " 'IS',\n",
       " 'MY',\n",
       " 'FIRST',\n",
       " 'PYTHON',\n",
       " 'PROGRAMMING',\n",
       " 'CLASS',\n",
       " 'AND',\n",
       " 'I',\n",
       " 'AM',\n",
       " 'LEARNING',\n",
       " 'PYTHON',\n",
       " 'STRING',\n",
       " 'AND',\n",
       " 'ITS',\n",
       " 'FUNCTION']"
      ]
     },
     "execution_count": 15,
     "metadata": {},
     "output_type": "execute_result"
    }
   ],
   "source": [
    "#method 2\n",
    "s.upper().split()"
   ]
  },
  {
   "cell_type": "markdown",
   "id": "0169717e-caef-42da-951f-f1a14c722684",
   "metadata": {},
   "source": [
    "Try to convert the whole string in lower "
   ]
  },
  {
   "cell_type": "code",
   "execution_count": 16,
   "id": "b0655a11-98b7-4407-aeb7-27ab48292d49",
   "metadata": {},
   "outputs": [
    {
     "data": {
      "text/plain": [
       "'this is my first python programming class and i am learning python string and its function'"
      ]
     },
     "execution_count": 16,
     "metadata": {},
     "output_type": "execute_result"
    }
   ],
   "source": [
    "s.lower()"
   ]
  },
  {
   "cell_type": "markdown",
   "id": "7eeb424e-775a-4ed0-ab99-6123155967c6",
   "metadata": {},
   "source": [
    "Try to capitalize the whole string "
   ]
  },
  {
   "cell_type": "code",
   "execution_count": 17,
   "id": "854e371c-a245-4e2e-b26b-4ea09a3c857a",
   "metadata": {},
   "outputs": [
    {
     "data": {
      "text/plain": [
       "'This is my first python programming class and i am learning python string and its function'"
      ]
     },
     "execution_count": 17,
     "metadata": {},
     "output_type": "execute_result"
    }
   ],
   "source": [
    "s.capitalize()"
   ]
  },
  {
   "cell_type": "markdown",
   "id": "5933919d-b14e-4ae1-abdd-cd3f9886c683",
   "metadata": {},
   "source": [
    "Write a difference between isalnum () and isalpha ()"
   ]
  },
  {
   "cell_type": "code",
   "execution_count": 18,
   "id": "aad4f42a-f994-45da-a89c-73bd0059e546",
   "metadata": {},
   "outputs": [],
   "source": [
    "# isalpha give sall characterss in the string are alphabets and isalnum gives all the string characters are either alphabets and number "
   ]
  },
  {
   "cell_type": "code",
   "execution_count": 25,
   "id": "8f076807-1fc1-4c9c-a543-f60513b8ec2f",
   "metadata": {},
   "outputs": [],
   "source": [
    "test =\"abcde\"\n",
    "test1 =\" ab24c5\"\n"
   ]
  },
  {
   "cell_type": "code",
   "execution_count": 20,
   "id": "1613722c-7c2f-4173-ac78-27f9c1092a26",
   "metadata": {},
   "outputs": [
    {
     "data": {
      "text/plain": [
       "True"
      ]
     },
     "execution_count": 20,
     "metadata": {},
     "output_type": "execute_result"
    }
   ],
   "source": [
    "test.isalpha()"
   ]
  },
  {
   "cell_type": "code",
   "execution_count": 22,
   "id": "e04effe3-e25f-4d46-acf8-88e07e8a3804",
   "metadata": {},
   "outputs": [
    {
     "data": {
      "text/plain": [
       "False"
      ]
     },
     "execution_count": 22,
     "metadata": {},
     "output_type": "execute_result"
    }
   ],
   "source": [
    "\n",
    "test1.isalnum()"
   ]
  },
  {
   "cell_type": "code",
   "execution_count": 23,
   "id": "d5065f25-031a-43f2-ac37-17688b80f970",
   "metadata": {},
   "outputs": [
    {
     "data": {
      "text/plain": [
       "True"
      ]
     },
     "execution_count": 23,
     "metadata": {},
     "output_type": "execute_result"
    }
   ],
   "source": [
    "test.isalnum()"
   ]
  },
  {
   "cell_type": "code",
   "execution_count": 24,
   "id": "fede4343-27b0-49a9-ba69-1c1c9c279f2c",
   "metadata": {},
   "outputs": [
    {
     "data": {
      "text/plain": [
       "False"
      ]
     },
     "execution_count": 24,
     "metadata": {},
     "output_type": "execute_result"
    }
   ],
   "source": [
    "test1.isalpha()"
   ]
  },
  {
   "cell_type": "markdown",
   "id": "356e92da-09cf-4d78-9357-fe9275dca40f",
   "metadata": {},
   "source": [
    "Try to give anexample of expand tab "
   ]
  },
  {
   "cell_type": "code",
   "execution_count": 28,
   "id": "3a175d5c-7e18-44ea-9b48-62943e4da9d0",
   "metadata": {},
   "outputs": [],
   "source": [
    "exp=\"This\\tis\\ta\\texample\""
   ]
  },
  {
   "cell_type": "code",
   "execution_count": 33,
   "id": "900631a1-6d07-4c11-8191-453deaa8354e",
   "metadata": {},
   "outputs": [
    {
     "data": {
      "text/plain": [
       "'This    is      a       example'"
      ]
     },
     "execution_count": 33,
     "metadata": {},
     "output_type": "execute_result"
    }
   ],
   "source": [
    "exp.expandtabs()"
   ]
  },
  {
   "cell_type": "code",
   "execution_count": 37,
   "id": "fe7f5d6d-eb3d-4006-8acb-da169155897b",
   "metadata": {},
   "outputs": [
    {
     "data": {
      "text/plain": [
       "'This    is  a   example'"
      ]
     },
     "execution_count": 37,
     "metadata": {},
     "output_type": "execute_result"
    }
   ],
   "source": [
    "exp.expandtabs(4)"
   ]
  },
  {
   "cell_type": "markdown",
   "id": "15b48683-188c-41b5-9b59-ceffffc2092d",
   "metadata": {},
   "source": [
    "Give an example of strip , lstrip , rstrip."
   ]
  },
  {
   "cell_type": "code",
   "execution_count": 39,
   "id": "61cf5d98-e07c-4b06-940e-68a8e4f8fddc",
   "metadata": {},
   "outputs": [
    {
     "data": {
      "text/plain": [
       "'32@@!! shubham@2@2@2@2@'"
      ]
     },
     "execution_count": 39,
     "metadata": {},
     "output_type": "execute_result"
    }
   ],
   "source": [
    "# example of strip \n",
    "a1= \"@@@@@32@@!! shubham@2@2@2@2@\" \n",
    "a1.lstrip(\"@2\") # removes the '@2' only from the left side of the string"
   ]
  },
  {
   "cell_type": "code",
   "execution_count": 41,
   "id": "dc41c766-f528-449a-a17b-e891f61d8b11",
   "metadata": {},
   "outputs": [
    {
     "data": {
      "text/plain": [
       "'@@@@@32@@!! shubham'"
      ]
     },
     "execution_count": 41,
     "metadata": {},
     "output_type": "execute_result"
    }
   ],
   "source": [
    "a1.rstrip(\"@2\") # removes the '@2' only from the right side of the string "
   ]
  },
  {
   "cell_type": "code",
   "execution_count": 43,
   "id": "9c7a8d4b-fcbd-4588-a918-fb01e0114eb7",
   "metadata": {},
   "outputs": [
    {
     "data": {
      "text/plain": [
       "'32@@!! shubham'"
      ]
     },
     "execution_count": 43,
     "metadata": {},
     "output_type": "execute_result"
    }
   ],
   "source": [
    "a1.strip(\"@2\") #removes the '@2' only from the string "
   ]
  },
  {
   "cell_type": "code",
   "execution_count": null,
   "id": "5c2ad742-540d-432d-aed1-e943b67e009e",
   "metadata": {},
   "outputs": [],
   "source": []
  },
  {
   "cell_type": "code",
   "execution_count": null,
   "id": "96e47110-2620-43cb-aae1-b1545c8988a1",
   "metadata": {},
   "outputs": [],
   "source": []
  },
  {
   "cell_type": "code",
   "execution_count": null,
   "id": "651ecb87-4882-460d-ba40-afa5e51bcb57",
   "metadata": {},
   "outputs": [],
   "source": []
  },
  {
   "cell_type": "code",
   "execution_count": null,
   "id": "218da951-20b3-4aeb-adec-ec624c12a739",
   "metadata": {},
   "outputs": [],
   "source": []
  },
  {
   "cell_type": "code",
   "execution_count": null,
   "id": "4dac8e81-0c99-43aa-b7e8-b859e3cae3ac",
   "metadata": {},
   "outputs": [],
   "source": []
  },
  {
   "cell_type": "code",
   "execution_count": null,
   "id": "48c09958-2065-4f99-a65c-cb2071d81005",
   "metadata": {},
   "outputs": [],
   "source": []
  },
  {
   "cell_type": "code",
   "execution_count": null,
   "id": "ef15c1cf-0f5b-4ec3-ae61-41815416a819",
   "metadata": {},
   "outputs": [],
   "source": []
  },
  {
   "cell_type": "code",
   "execution_count": null,
   "id": "1f5aec2f-5cd7-4bd8-9e6e-bc5f891c17e5",
   "metadata": {},
   "outputs": [],
   "source": []
  },
  {
   "cell_type": "code",
   "execution_count": null,
   "id": "d604b234-ee4b-4028-886a-082d31e8020f",
   "metadata": {},
   "outputs": [],
   "source": []
  },
  {
   "cell_type": "code",
   "execution_count": null,
   "id": "9559bc76-00f3-406d-bf2d-c63e16f50c23",
   "metadata": {},
   "outputs": [],
   "source": []
  }
 ],
 "metadata": {
  "kernelspec": {
   "display_name": "Python 3 (ipykernel)",
   "language": "python",
   "name": "python3"
  },
  "language_info": {
   "codemirror_mode": {
    "name": "ipython",
    "version": 3
   },
   "file_extension": ".py",
   "mimetype": "text/x-python",
   "name": "python",
   "nbconvert_exporter": "python",
   "pygments_lexer": "ipython3",
   "version": "3.12.4"
  }
 },
 "nbformat": 4,
 "nbformat_minor": 5
}
